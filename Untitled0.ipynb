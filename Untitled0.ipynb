{
  "nbformat": 4,
  "nbformat_minor": 0,
  "metadata": {
    "colab": {
      "name": "Untitled0.ipynb",
      "provenance": [],
      "toc_visible": true,
      "authorship_tag": "ABX9TyPW0WPcYPk8UchmcktwI63b",
      "include_colab_link": true
    },
    "kernelspec": {
      "name": "python3",
      "display_name": "Python 3"
    }
  },
  "cells": [
    {
      "cell_type": "markdown",
      "metadata": {
        "id": "view-in-github",
        "colab_type": "text"
      },
      "source": [
        "<a href=\"https://colab.research.google.com/github/yishairasowsky/42Robotics-AI-Machine-Learning-Quantum-Circuits-Tensorflow-Estimator/blob/master/Untitled0.ipynb\" target=\"_parent\"><img src=\"https://colab.research.google.com/assets/colab-badge.svg\" alt=\"Open In Colab\"/></a>"
      ]
    },
    {
      "cell_type": "code",
      "metadata": {
        "id": "996XuOF9zQp3",
        "colab_type": "code",
        "colab": {}
      },
      "source": [
        "import pandas as pd"
      ],
      "execution_count": 0,
      "outputs": []
    },
    {
      "cell_type": "code",
      "metadata": {
        "id": "_GJq4lAIzY4K",
        "colab_type": "code",
        "colab": {}
      },
      "source": [
        "prayer_df = pd.read_csv('/content/prayer-sources.csv', encoding=\"latin-1\")\n",
        "abraham_df = pd.read_csv('/content/abraham-sources.csv', encoding=\"latin-1\")\n",
        "moses_df = pd.read_csv('/content/moses-sources.csv', encoding=\"latin-1\")\n",
        "\n",
        "# df = pd.read_csv('/content/prayer-sources.csv', encoding=\"latin-1\")\n",
        "\n"
      ],
      "execution_count": 0,
      "outputs": []
    },
    {
      "cell_type": "code",
      "metadata": {
        "id": "fODCiUmOzeOo",
        "colab_type": "code",
        "outputId": "e1aff0d4-9d1b-4db8-e6d8-c874249af2b1",
        "colab": {
          "base_uri": "https://localhost:8080/",
          "height": 281
        }
      },
      "source": [
        "prayer_df['topic'] = 'prayer'\n",
        "prayer_df.tail()"
      ],
      "execution_count": 0,
      "outputs": [
        {
          "output_type": "execute_result",
          "data": {
            "text/html": [
              "<div>\n",
              "<style scoped>\n",
              "    .dataframe tbody tr th:only-of-type {\n",
              "        vertical-align: middle;\n",
              "    }\n",
              "\n",
              "    .dataframe tbody tr th {\n",
              "        vertical-align: top;\n",
              "    }\n",
              "\n",
              "    .dataframe thead th {\n",
              "        text-align: right;\n",
              "    }\n",
              "</style>\n",
              "<table border=\"1\" class=\"dataframe\">\n",
              "  <thead>\n",
              "    <tr style=\"text-align: right;\">\n",
              "      <th></th>\n",
              "      <th>Ref</th>\n",
              "      <th>En</th>\n",
              "      <th>He</th>\n",
              "      <th>topic</th>\n",
              "    </tr>\n",
              "  </thead>\n",
              "  <tbody>\n",
              "    <tr>\n",
              "      <th>1047</th>\n",
              "      <td>Siddur Ashkenaz, Weekday, Shacharit, Amidah, H...</td>\n",
              "      <td>Heal us, O Lord, and we shall be healed, save ...</td>\n",
              "      <td>×¨Ö°×¤Ö¸×Öµ× ×Ö¼ ×' ×Ö°× Öµ×¨Ö¸×¤Öµ×. ××...</td>\n",
              "      <td>prayer</td>\n",
              "    </tr>\n",
              "    <tr>\n",
              "      <th>1048</th>\n",
              "      <td>Siddur Ashkenaz, Weekday, Shacharit, Concludin...</td>\n",
              "      <td>We rise to our duty to praise the Master of al...</td>\n",
              "      <td>×¢Ö¸×Öµ×× ×Ö¼ ×Ö°×©×Ö·×Ö¼Öµ×Ö· ×Ö·×Ö²...</td>\n",
              "      <td>prayer</td>\n",
              "    </tr>\n",
              "    <tr>\n",
              "      <th>1049</th>\n",
              "      <td>Unetaneh Tokef 2-5</td>\n",
              "      <td>It is true that you are the one who judges, an...</td>\n",
              "      <td>×Ö±×Ö¶×ª ×Ö¼Ö´× ×Ö·×ªÖ¼Ö¸× ××Ö¼× ×Ö¼...</td>\n",
              "      <td>prayer</td>\n",
              "    </tr>\n",
              "    <tr>\n",
              "      <th>1050</th>\n",
              "      <td>Tosefta Berakhot 1:11</td>\n",
              "      <td>In these Berachot (blessings) we bow down: the...</td>\n",
              "      <td>××× ××¨×××ª ×©×©×××× ××× ××¨××...</td>\n",
              "      <td>prayer</td>\n",
              "    </tr>\n",
              "    <tr>\n",
              "      <th>1051</th>\n",
              "      <td>Tosefta Berakhot 4:5</td>\n",
              "      <td>On seeds he says [the Beracha (blessing)] Bore...</td>\n",
              "      <td>×¢× ×××¨×¢×× ××× ××××¨ ×××¨× ××...</td>\n",
              "      <td>prayer</td>\n",
              "    </tr>\n",
              "  </tbody>\n",
              "</table>\n",
              "</div>"
            ],
            "text/plain": [
              "                                                    Ref  ...   topic\n",
              "1047  Siddur Ashkenaz, Weekday, Shacharit, Amidah, H...  ...  prayer\n",
              "1048  Siddur Ashkenaz, Weekday, Shacharit, Concludin...  ...  prayer\n",
              "1049                                 Unetaneh Tokef 2-5  ...  prayer\n",
              "1050                              Tosefta Berakhot 1:11  ...  prayer\n",
              "1051                               Tosefta Berakhot 4:5  ...  prayer\n",
              "\n",
              "[5 rows x 4 columns]"
            ]
          },
          "metadata": {
            "tags": []
          },
          "execution_count": 16
        }
      ]
    },
    {
      "cell_type": "code",
      "metadata": {
        "id": "ZyLQqQsu0G8Y",
        "colab_type": "code",
        "outputId": "3c00f3b2-1a33-4631-d849-34f8d11ff8a1",
        "colab": {
          "base_uri": "https://localhost:8080/",
          "height": 281
        }
      },
      "source": [
        "abraham_df['topic'] = 'abraham'\n",
        "abraham_df.tail()"
      ],
      "execution_count": 0,
      "outputs": [
        {
          "output_type": "execute_result",
          "data": {
            "text/html": [
              "<div>\n",
              "<style scoped>\n",
              "    .dataframe tbody tr th:only-of-type {\n",
              "        vertical-align: middle;\n",
              "    }\n",
              "\n",
              "    .dataframe tbody tr th {\n",
              "        vertical-align: top;\n",
              "    }\n",
              "\n",
              "    .dataframe thead th {\n",
              "        text-align: right;\n",
              "    }\n",
              "</style>\n",
              "<table border=\"1\" class=\"dataframe\">\n",
              "  <thead>\n",
              "    <tr style=\"text-align: right;\">\n",
              "      <th></th>\n",
              "      <th>Ref</th>\n",
              "      <th>En</th>\n",
              "      <th>He</th>\n",
              "      <th>topic</th>\n",
              "    </tr>\n",
              "  </thead>\n",
              "  <tbody>\n",
              "    <tr>\n",
              "      <th>642</th>\n",
              "      <td>Pirkei DeRabbi Eliezer 32:8</td>\n",
              "      <td>When Abraham returned from Mount Moriah in pea...</td>\n",
              "      <td>×××©×× ×××¨×× ×××¨ ××××¨××, ××...</td>\n",
              "      <td>abraham</td>\n",
              "    </tr>\n",
              "    <tr>\n",
              "      <th>643</th>\n",
              "      <td>Mishneh Torah, Foreign Worship and Customs of ...</td>\n",
              "      <td>In the days of Enosh, the sons of man erred ex...</td>\n",
              "      <td>×Ö´××Öµ× ×Ö±× ×Ö¹×©× ×Ö¸×¢×Ö¼ ×Ö¼Ö°×...</td>\n",
              "      <td>abraham</td>\n",
              "    </tr>\n",
              "    <tr>\n",
              "      <th>644</th>\n",
              "      <td>Mishneh Torah, Foreign Worship and Customs of ...</td>\n",
              "      <td>As soon as this giant was weaned he commenced ...</td>\n",
              "      <td>×Ö¼Öµ××Ö¸× ×©×Ö¶× Ö¼Ö´×Ö°×Ö·× ×Öµ××ª...</td>\n",
              "      <td>abraham</td>\n",
              "    </tr>\n",
              "    <tr>\n",
              "      <th>645</th>\n",
              "      <td>Mishneh Torah, Gifts to the Poor 10:1</td>\n",
              "      <td>We must be especially careful to observe the m...</td>\n",
              "      <td>×Ö·×Ö¼Ö¸×Ö´×× ×Ö¸× ×Ö¼ ×Ö°×Ö´×Ö¼Ö¸×...</td>\n",
              "      <td>abraham</td>\n",
              "    </tr>\n",
              "    <tr>\n",
              "      <th>646</th>\n",
              "      <td>Mishneh Torah, Mourning 14:2</td>\n",
              "      <td>The reward for escorting a stranger is greater...</td>\n",
              "      <td>×©×Ö°×Ö·×¨ ×Ö·×Ö¼Ö°×Ö¸×Ö¸× ×Ö°×¨Ö»×Ö¼...</td>\n",
              "      <td>abraham</td>\n",
              "    </tr>\n",
              "  </tbody>\n",
              "</table>\n",
              "</div>"
            ],
            "text/plain": [
              "                                                   Ref  ...    topic\n",
              "642                        Pirkei DeRabbi Eliezer 32:8  ...  abraham\n",
              "643  Mishneh Torah, Foreign Worship and Customs of ...  ...  abraham\n",
              "644  Mishneh Torah, Foreign Worship and Customs of ...  ...  abraham\n",
              "645              Mishneh Torah, Gifts to the Poor 10:1  ...  abraham\n",
              "646                       Mishneh Torah, Mourning 14:2  ...  abraham\n",
              "\n",
              "[5 rows x 4 columns]"
            ]
          },
          "metadata": {
            "tags": []
          },
          "execution_count": 17
        }
      ]
    },
    {
      "cell_type": "code",
      "metadata": {
        "id": "p3-L5YFZ3xix",
        "colab_type": "code",
        "outputId": "605f66da-f93a-4718-bf52-21db75b99e04",
        "colab": {
          "base_uri": "https://localhost:8080/",
          "height": 197
        }
      },
      "source": [
        "moses_df['topic'] = 'moses'\n",
        "moses_df.tail()"
      ],
      "execution_count": 0,
      "outputs": [
        {
          "output_type": "execute_result",
          "data": {
            "text/html": [
              "<div>\n",
              "<style scoped>\n",
              "    .dataframe tbody tr th:only-of-type {\n",
              "        vertical-align: middle;\n",
              "    }\n",
              "\n",
              "    .dataframe tbody tr th {\n",
              "        vertical-align: top;\n",
              "    }\n",
              "\n",
              "    .dataframe thead th {\n",
              "        text-align: right;\n",
              "    }\n",
              "</style>\n",
              "<table border=\"1\" class=\"dataframe\">\n",
              "  <thead>\n",
              "    <tr style=\"text-align: right;\">\n",
              "      <th></th>\n",
              "      <th>Ref</th>\n",
              "      <th>En</th>\n",
              "      <th>He</th>\n",
              "      <th>topic</th>\n",
              "    </tr>\n",
              "  </thead>\n",
              "  <tbody>\n",
              "    <tr>\n",
              "      <th>730</th>\n",
              "      <td>Devarim Rabbah 9:9</td>\n",
              "      <td>NaN</td>\n",
              "      <td>×Ö¼Ö¸×Ö¸×¨ ×Ö·×Öµ×¨, ×Ö·××Ö¼ ×Öµ×, ×...</td>\n",
              "      <td>moses</td>\n",
              "    </tr>\n",
              "    <tr>\n",
              "      <th>731</th>\n",
              "      <td>Yalkut Shimoni on Torah 405:1</td>\n",
              "      <td>When the Holy One came to give the Torah to Mo...</td>\n",
              "      <td>××©×× ××§×\"× ×××ª× ××ª ××ª××¨× ×...</td>\n",
              "      <td>moses</td>\n",
              "    </tr>\n",
              "    <tr>\n",
              "      <th>732</th>\n",
              "      <td>Mekhilta d'Rabbi Yishmael 18:3:1</td>\n",
              "      <td>(Exodus 18:3) \"and her two sons â¦ in a forei...</td>\n",
              "      <td>×××ª ×©× × ×× ×× ×××' × ××¨××, ×¨'...</td>\n",
              "      <td>moses</td>\n",
              "    </tr>\n",
              "    <tr>\n",
              "      <th>733</th>\n",
              "      <td>Avot D'Rabbi Natan 6:2</td>\n",
              "      <td>Become dirty in the dust of their feet . How s...</td>\n",
              "      <td>×××× ××ª×××§ ××¢×¤×¨ ×¨××××× ××...</td>\n",
              "      <td>moses</td>\n",
              "    </tr>\n",
              "    <tr>\n",
              "      <th>734</th>\n",
              "      <td>Sefat Emet, Exodus, Beshalach 30:2</td>\n",
              "      <td>NaN</td>\n",
              "      <td>×× ××©××¨ ××©× ××'. ×¤×' ×××¨ ××¦\"...</td>\n",
              "      <td>moses</td>\n",
              "    </tr>\n",
              "  </tbody>\n",
              "</table>\n",
              "</div>"
            ],
            "text/plain": [
              "                                    Ref  ...  topic\n",
              "730                  Devarim Rabbah 9:9  ...  moses\n",
              "731       Yalkut Shimoni on Torah 405:1  ...  moses\n",
              "732    Mekhilta d'Rabbi Yishmael 18:3:1  ...  moses\n",
              "733              Avot D'Rabbi Natan 6:2  ...  moses\n",
              "734  Sefat Emet, Exodus, Beshalach 30:2  ...  moses\n",
              "\n",
              "[5 rows x 4 columns]"
            ]
          },
          "metadata": {
            "tags": []
          },
          "execution_count": 18
        }
      ]
    },
    {
      "cell_type": "code",
      "metadata": {
        "id": "5F4T5y8Z3ygD",
        "colab_type": "code",
        "outputId": "398290db-c81f-47bb-9ff8-be26f66e9e79",
        "colab": {
          "base_uri": "https://localhost:8080/",
          "height": 281
        }
      },
      "source": [
        "frames = [moses_df,abraham_df,\n",
        "          prayer_df\n",
        "          ]\n",
        "df = pd.concat(frames)\n",
        "df.sample(5)"
      ],
      "execution_count": 0,
      "outputs": [
        {
          "output_type": "execute_result",
          "data": {
            "text/html": [
              "<div>\n",
              "<style scoped>\n",
              "    .dataframe tbody tr th:only-of-type {\n",
              "        vertical-align: middle;\n",
              "    }\n",
              "\n",
              "    .dataframe tbody tr th {\n",
              "        vertical-align: top;\n",
              "    }\n",
              "\n",
              "    .dataframe thead th {\n",
              "        text-align: right;\n",
              "    }\n",
              "</style>\n",
              "<table border=\"1\" class=\"dataframe\">\n",
              "  <thead>\n",
              "    <tr style=\"text-align: right;\">\n",
              "      <th></th>\n",
              "      <th>Ref</th>\n",
              "      <th>En</th>\n",
              "      <th>He</th>\n",
              "      <th>topic</th>\n",
              "    </tr>\n",
              "  </thead>\n",
              "  <tbody>\n",
              "    <tr>\n",
              "      <th>174</th>\n",
              "      <td>Mekhilta d'Rabbi Yishmael 19:14:1</td>\n",
              "      <td>(Exodus 19:14) \"And Moses went down from the m...</td>\n",
              "      <td>×××¨× ××©× ×× ×××¨ ×× ××¢×. ×××...</td>\n",
              "      <td>moses</td>\n",
              "    </tr>\n",
              "    <tr>\n",
              "      <th>163</th>\n",
              "      <td>Bereishit Rabbah 48:8</td>\n",
              "      <td>\"At the opening of the tent\" (Gen. 18:1). You ...</td>\n",
              "      <td>×¤Ö¼Ö¶×ªÖ·× ×Ö¸×Ö¹×Ö¶× (××¨××©××ª ××...</td>\n",
              "      <td>abraham</td>\n",
              "    </tr>\n",
              "    <tr>\n",
              "      <th>231</th>\n",
              "      <td>Sefer Chasidim 588:1</td>\n",
              "      <td>If it will come to pass that a person who does...</td>\n",
              "      <td>××× ××× ×××× ×× ×©××× × ××××...</td>\n",
              "      <td>prayer</td>\n",
              "    </tr>\n",
              "    <tr>\n",
              "      <th>627</th>\n",
              "      <td>Sefat Emet, Deuteronomy, Vaetchanan 1:5</td>\n",
              "      <td>NaN</td>\n",
              "      <td>××××¨×© ××× ××× ×××× ××' ×××...</td>\n",
              "      <td>prayer</td>\n",
              "    </tr>\n",
              "    <tr>\n",
              "      <th>125</th>\n",
              "      <td>Avodah Zarah 17a:13-15</td>\n",
              "      <td>This statement deeply shocked Elazar ben Durda...</td>\n",
              "      <td>××× ×××©× ××× ×©× × ××¨×× ××××...</td>\n",
              "      <td>prayer</td>\n",
              "    </tr>\n",
              "  </tbody>\n",
              "</table>\n",
              "</div>"
            ],
            "text/plain": [
              "                                         Ref  ...    topic\n",
              "174        Mekhilta d'Rabbi Yishmael 19:14:1  ...    moses\n",
              "163                    Bereishit Rabbah 48:8  ...  abraham\n",
              "231                     Sefer Chasidim 588:1  ...   prayer\n",
              "627  Sefat Emet, Deuteronomy, Vaetchanan 1:5  ...   prayer\n",
              "125                   Avodah Zarah 17a:13-15  ...   prayer\n",
              "\n",
              "[5 rows x 4 columns]"
            ]
          },
          "metadata": {
            "tags": []
          },
          "execution_count": 24
        }
      ]
    },
    {
      "cell_type": "code",
      "metadata": {
        "id": "i3W99VeR4X-h",
        "colab_type": "code",
        "outputId": "b050e19c-b8ba-4ced-ddf9-6f74040d4a88",
        "colab": {
          "base_uri": "https://localhost:8080/",
          "height": 197
        }
      },
      "source": [
        "df = df[['En','topic']]\n",
        "df.sample(5)"
      ],
      "execution_count": 0,
      "outputs": [
        {
          "output_type": "execute_result",
          "data": {
            "text/html": [
              "<div>\n",
              "<style scoped>\n",
              "    .dataframe tbody tr th:only-of-type {\n",
              "        vertical-align: middle;\n",
              "    }\n",
              "\n",
              "    .dataframe tbody tr th {\n",
              "        vertical-align: top;\n",
              "    }\n",
              "\n",
              "    .dataframe thead th {\n",
              "        text-align: right;\n",
              "    }\n",
              "</style>\n",
              "<table border=\"1\" class=\"dataframe\">\n",
              "  <thead>\n",
              "    <tr style=\"text-align: right;\">\n",
              "      <th></th>\n",
              "      <th>En</th>\n",
              "      <th>topic</th>\n",
              "    </tr>\n",
              "  </thead>\n",
              "  <tbody>\n",
              "    <tr>\n",
              "      <th>208</th>\n",
              "      <td>The forms of all the blessings were establishe...</td>\n",
              "      <td>prayer</td>\n",
              "    </tr>\n",
              "    <tr>\n",
              "      <th>559</th>\n",
              "      <td>And the LORD said: âIf I find in Sodom fifty...</td>\n",
              "      <td>abraham</td>\n",
              "    </tr>\n",
              "    <tr>\n",
              "      <th>380</th>\n",
              "      <td>NaN</td>\n",
              "      <td>abraham</td>\n",
              "    </tr>\n",
              "    <tr>\n",
              "      <th>915</th>\n",
              "      <td>For though my father and my mother have forsak...</td>\n",
              "      <td>prayer</td>\n",
              "    </tr>\n",
              "    <tr>\n",
              "      <th>543</th>\n",
              "      <td>Alternatively: âGrace is deceitfulâ; this ...</td>\n",
              "      <td>moses</td>\n",
              "    </tr>\n",
              "  </tbody>\n",
              "</table>\n",
              "</div>"
            ],
            "text/plain": [
              "                                                    En    topic\n",
              "208  The forms of all the blessings were establishe...   prayer\n",
              "559  And the LORD said: âIf I find in Sodom fifty...  abraham\n",
              "380                                                NaN  abraham\n",
              "915  For though my father and my mother have forsak...   prayer\n",
              "543  Alternatively: âGrace is deceitfulâ; this ...    moses"
            ]
          },
          "metadata": {
            "tags": []
          },
          "execution_count": 25
        }
      ]
    },
    {
      "cell_type": "code",
      "metadata": {
        "id": "bHrkQ1sr5ruJ",
        "colab_type": "code",
        "outputId": "51d306ef-c363-443b-b8d5-bba72fda8980",
        "colab": {
          "base_uri": "https://localhost:8080/",
          "height": 197
        }
      },
      "source": [
        "df.dropna(inplace=True)\n",
        "df.sample(5)"
      ],
      "execution_count": 26,
      "outputs": [
        {
          "output_type": "execute_result",
          "data": {
            "text/html": [
              "<div>\n",
              "<style scoped>\n",
              "    .dataframe tbody tr th:only-of-type {\n",
              "        vertical-align: middle;\n",
              "    }\n",
              "\n",
              "    .dataframe tbody tr th {\n",
              "        vertical-align: top;\n",
              "    }\n",
              "\n",
              "    .dataframe thead th {\n",
              "        text-align: right;\n",
              "    }\n",
              "</style>\n",
              "<table border=\"1\" class=\"dataframe\">\n",
              "  <thead>\n",
              "    <tr style=\"text-align: right;\">\n",
              "      <th></th>\n",
              "      <th>En</th>\n",
              "      <th>topic</th>\n",
              "    </tr>\n",
              "  </thead>\n",
              "  <tbody>\n",
              "    <tr>\n",
              "      <th>100</th>\n",
              "      <td>It is also used figuratively to denote: to aba...</td>\n",
              "      <td>moses</td>\n",
              "    </tr>\n",
              "    <tr>\n",
              "      <th>981</th>\n",
              "      <td>The brothers, Abaye bar Avin and Rabbi á¸¤anin...</td>\n",
              "      <td>prayer</td>\n",
              "    </tr>\n",
              "    <tr>\n",
              "      <th>434</th>\n",
              "      <td>MISHNA: Incidental to the discussion of the re...</td>\n",
              "      <td>moses</td>\n",
              "    </tr>\n",
              "    <tr>\n",
              "      <th>6</th>\n",
              "      <td>That was also taught in a baraita : One should...</td>\n",
              "      <td>prayer</td>\n",
              "    </tr>\n",
              "    <tr>\n",
              "      <th>326</th>\n",
              "      <td>Moses prayed to God to grant him knowledge of ...</td>\n",
              "      <td>moses</td>\n",
              "    </tr>\n",
              "  </tbody>\n",
              "</table>\n",
              "</div>"
            ],
            "text/plain": [
              "                                                    En   topic\n",
              "100  It is also used figuratively to denote: to aba...   moses\n",
              "981  The brothers, Abaye bar Avin and Rabbi á¸¤anin...  prayer\n",
              "434  MISHNA: Incidental to the discussion of the re...   moses\n",
              "6    That was also taught in a baraita : One should...  prayer\n",
              "326  Moses prayed to God to grant him knowledge of ...   moses"
            ]
          },
          "metadata": {
            "tags": []
          },
          "execution_count": 26
        }
      ]
    },
    {
      "cell_type": "code",
      "metadata": {
        "id": "HzrBO1di6b-t",
        "colab_type": "code",
        "colab": {}
      },
      "source": [
        ""
      ],
      "execution_count": 0,
      "outputs": []
    }
  ]
}